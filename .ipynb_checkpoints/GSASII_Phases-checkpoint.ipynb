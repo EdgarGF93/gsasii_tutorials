{
 "cells": [
  {
   "cell_type": "markdown",
   "id": "09d96c6e-a87f-4916-8b45-379acea7b216",
   "metadata": {},
   "source": [
    "# GSAS-II: Phases"
   ]
  },
  {
   "cell_type": "code",
   "execution_count": 14,
   "id": "23015efe-781d-470a-828d-aaa01bb75216",
   "metadata": {},
   "outputs": [],
   "source": [
    "import G2script as G2\n",
    "import matplotlib.pyplot as plt"
   ]
  },
  {
   "cell_type": "code",
   "execution_count": 15,
   "id": "3b53eaac-d1ad-4f40-ae5c-c134bb0d34a2",
   "metadata": {},
   "outputs": [
    {
     "name": "stdout",
     "output_type": "stream",
     "text": [
      "gpx file saved as /home/edgar1993a/work/pyobjcryst/gsas_phase.gpx\n"
     ]
    }
   ],
   "source": [
    "PROJECT_NAME = 'gsas_phase.gpx'\n",
    "gpx = G2.G2Project(newgpx=PROJECT_NAME)\n",
    "gpx.save()"
   ]
  },
  {
   "cell_type": "markdown",
   "id": "31438e36-89d2-472a-850b-5ee8f60e90fd",
   "metadata": {},
   "source": [
    "#### For the moment, the project is emtpy and does not contain any phase"
   ]
  },
  {
   "cell_type": "code",
   "execution_count": 16,
   "id": "fbf0e02f-9671-4748-9ad7-0eba7ad0c2a0",
   "metadata": {},
   "outputs": [
    {
     "data": {
      "text/plain": [
       "[]"
      ]
     },
     "execution_count": 16,
     "metadata": {},
     "output_type": "execute_result"
    }
   ],
   "source": [
    "gpx.phases()"
   ]
  },
  {
   "cell_type": "markdown",
   "id": "71da2ea8-171d-4816-896d-7320ca60716c",
   "metadata": {},
   "source": [
    "#### We will start by adding one phase to the project"
   ]
  },
  {
   "cell_type": "code",
   "execution_count": 17,
   "id": "06a358c5-db33-4552-a331-b63853ea1482",
   "metadata": {},
   "outputs": [
    {
     "name": "stdout",
     "output_type": "stream",
     "text": [
      "/home/edgar1993a/work/pyobjcryst/ZnO.cif read by Reader CIF\n",
      "gpx file saved as /home/edgar1993a/work/pyobjcryst/gsas_phase.gpx\n"
     ]
    }
   ],
   "source": [
    "zno = gpx.add_phase(\n",
    "    phasefile='ZnO.cif',\n",
    "    phasename='zno',\n",
    "    histograms=[],\n",
    ")"
   ]
  },
  {
   "cell_type": "markdown",
   "id": "7fd85871-050c-41ad-ae4b-d78dcb8a50f4",
   "metadata": {},
   "source": [
    "#### The cif file contains a complete phase, with cell parameters and atoms"
   ]
  },
  {
   "cell_type": "markdown",
   "id": "45eaf95d-1e78-41c8-9e22-2e6564ab6e92",
   "metadata": {},
   "source": [
    "#### We can retrieve the cell parameters of the phase as a dict"
   ]
  },
  {
   "cell_type": "code",
   "execution_count": 18,
   "id": "3d15a627-8ab0-47b0-a8f6-d3ffe14672c8",
   "metadata": {},
   "outputs": [
    {
     "data": {
      "text/plain": [
       "{'length_a': 3.2495,\n",
       " 'length_b': 3.2495,\n",
       " 'length_c': 5.2069,\n",
       " 'angle_alpha': 90.0,\n",
       " 'angle_beta': 90.0,\n",
       " 'angle_gamma': 120.0,\n",
       " 'volume': 47.61490819420314}"
      ]
     },
     "execution_count": 18,
     "metadata": {},
     "output_type": "execute_result"
    }
   ],
   "source": [
    "zno.get_cell()"
   ]
  },
  {
   "cell_type": "markdown",
   "id": "7c734d04-0906-4920-b34b-9a416af8a2ad",
   "metadata": {},
   "source": [
    "#### In a phase, we can check the composition"
   ]
  },
  {
   "cell_type": "code",
   "execution_count": 19,
   "id": "d7d48780-cee5-4ca2-a81c-65401d912a98",
   "metadata": {},
   "outputs": [
    {
     "data": {
      "text/plain": [
       "{'Zn': 2.0, 'O': 2.0}"
      ]
     },
     "execution_count": 19,
     "metadata": {},
     "output_type": "execute_result"
    }
   ],
   "source": [
    "zno.composition"
   ]
  },
  {
   "cell_type": "markdown",
   "id": "f9d11a75-f402-4017-91b0-f4760438804b",
   "metadata": {},
   "source": [
    "#### We can retrieve the atoms of the cell"
   ]
  },
  {
   "cell_type": "code",
   "execution_count": 20,
   "id": "cc6e5604-813e-4e55-bfae-1f9a5e6808ed",
   "metadata": {},
   "outputs": [
    {
     "data": {
      "text/plain": [
       "[<GSASIIscriptable.G2AtomRecord at 0x7f6bcf6b03d0>,\n",
       " <GSASIIscriptable.G2AtomRecord at 0x7f6bcf6b0040>]"
      ]
     },
     "execution_count": 20,
     "metadata": {},
     "output_type": "execute_result"
    }
   ],
   "source": [
    "zno.atoms()"
   ]
  },
  {
   "cell_type": "markdown",
   "id": "4bc49627-5509-4288-aa73-4b8a79810bcf",
   "metadata": {},
   "source": [
    "#### At this moment, there is not a histogram associated to the phase, so any method related to HAP is useless"
   ]
  },
  {
   "cell_type": "code",
   "execution_count": 21,
   "id": "7656365d-73f8-4931-bc3e-6071cd4be1f6",
   "metadata": {},
   "outputs": [
    {
     "data": {
      "text/plain": [
       "[]"
      ]
     },
     "execution_count": 21,
     "metadata": {},
     "output_type": "execute_result"
    }
   ],
   "source": [
    "zno.histograms()"
   ]
  },
  {
   "cell_type": "code",
   "execution_count": 22,
   "id": "c8bbc66f-cc95-4c07-8b31-b89bcf06b612",
   "metadata": {},
   "outputs": [],
   "source": [
    "# zno.getHAPvalues()"
   ]
  },
  {
   "cell_type": "markdown",
   "id": "3811f866-2077-4d60-aea0-e2d768ab9917",
   "metadata": {},
   "source": [
    "#### The Phase is an object with tags and information but it does not contain any data points, "
   ]
  },
  {
   "cell_type": "markdown",
   "id": "c0e40935-744d-4d58-b71e-39c4b4eb1964",
   "metadata": {},
   "source": [
    "#### In GSASII, the data points are stored only in histograms"
   ]
  },
  {
   "cell_type": "markdown",
   "id": "1d82f997-5edd-4331-b2b9-6c94855b3d77",
   "metadata": {},
   "source": [
    "#### Therefore, in order to simulate the diffractogram points from a phase, we have to create an histogram, which is is a G2PwdrData object"
   ]
  },
  {
   "cell_type": "code",
   "execution_count": 23,
   "id": "6989cf4c-99ae-4e1f-8e4f-fa103b59c017",
   "metadata": {},
   "outputs": [
    {
     "name": "stdout",
     "output_type": "stream",
     "text": [
      "Simulating 2001 points from 0 to 100 degrees 2theta\n",
      "Instrument parameters read: /home/edgar1993a/work/pyobjcryst/cuka.instprm (G2 fmt) bank 1\n"
     ]
    }
   ],
   "source": [
    "hist_sim = gpx.add_simulated_powder_histogram(\n",
    "    histname='hist_simulation_zno',\n",
    "    iparams='cuka.instprm',\n",
    "    Tmin=0,\n",
    "    Tmax=100,\n",
    "    Tstep=0.05,\n",
    "    phases=[zno],\n",
    ")"
   ]
  },
  {
   "cell_type": "code",
   "execution_count": 24,
   "id": "46e80176-ac9d-4e76-89ed-38ce3ebc9c31",
   "metadata": {},
   "outputs": [
    {
     "data": {
      "text/plain": [
       "GSASIIscriptable.G2PwdrData"
      ]
     },
     "execution_count": 24,
     "metadata": {},
     "output_type": "execute_result"
    }
   ],
   "source": [
    "type(hist_sim)"
   ]
  },
  {
   "cell_type": "markdown",
   "id": "8edef7ba-1f1d-48c1-aa6e-dffd8a66fc2c",
   "metadata": {},
   "source": [
    "#### We just created an histogram measured using the instrumental parameters in the .instprm file, with the phase, but we still need to simulate the data"
   ]
  },
  {
   "cell_type": "code",
   "execution_count": 25,
   "id": "f07f18b7-5f66-4f9b-b025-9da1ca4f6536",
   "metadata": {},
   "outputs": [
    {
     "data": {
      "image/png": "[encoded data removed]",
      "text/plain": [
       "<Figure size 640x480 with 1 Axes>"
      ]
     },
     "metadata": {},
     "output_type": "display_data"
    }
   ],
   "source": [
    "hist_sim.plot()"
   ]
  },
  {
   "cell_type": "markdown",
   "id": "75a6472b-d58b-42a0-aa73-295dccadde50",
   "metadata": {},
   "source": [
    "### The refinement is performed at the project level"
   ]
  },
  {
   "cell_type": "code",
   "execution_count": 26,
   "id": "1565532c-258f-4138-a1a1-da1793a43289",
   "metadata": {},
   "outputs": [
    {
     "name": "stdout",
     "output_type": "stream",
     "text": [
      "gpx file saved as /home/edgar1993a/work/pyobjcryst/gsas_phase.gpx\n",
      " Hessian Levenberg-Marquardt SVD refinement on 1 variables:\n",
      "initial chi^2 9482.3 with 2001 obs.\n",
      "Read from file:/home/edgar1993a/work/pyobjcryst/gsas_phase.bak0.gpx\n",
      "Save to file  :/home/edgar1993a/work/pyobjcryst/gsas_phase.gpx\n",
      "GPX file save successful\n",
      " Refinement results are in file: /home/edgar1993a/work/pyobjcryst/gsas_phase.lst\n",
      " ***** Refinement successful *****\n"
     ]
    },
    {
     "data": {
      "text/plain": [
       "<GSASIIscriptable.G2Project at 0x7f6bcf833cd0>"
      ]
     },
     "execution_count": 26,
     "metadata": {},
     "output_type": "execute_result"
    }
   ],
   "source": [
    "gpx.do_refinements()"
   ]
  },
  {
   "cell_type": "code",
   "execution_count": 27,
   "id": "5d2256c7-525d-467b-8b25-9f9c65d26fb8",
   "metadata": {},
   "outputs": [
    {
     "data": {
      "image/png": "[encoded data removed]",
      "text/plain": [
       "<Figure size 640x480 with 1 Axes>"
      ]
     },
     "metadata": {},
     "output_type": "display_data"
    }
   ],
   "source": [
    "hist_sim.plot()\n",
    "plt.xlabel('2theta(deg)')\n",
    "plt.ylabel('Intensity')\n",
    "plt.show()"
   ]
  },
  {
   "cell_type": "markdown",
   "id": "4c6375f4-62b6-4ab1-98ec-f1d265a77186",
   "metadata": {},
   "source": [
    "#### The simulated data, without noise, can be retrieved"
   ]
  },
  {
   "cell_type": "code",
   "execution_count": 59,
   "id": "4fe38b8c-2d5a-4090-ad5c-b9e66cf60a28",
   "metadata": {},
   "outputs": [],
   "source": [
    "tth = hist_sim.getdata('X')\n",
    "intensity_obs = hist_sim.getdata('Yobs')\n",
    "intensity_calc = hist_sim.getdata('Ycalc')"
   ]
  },
  {
   "cell_type": "code",
   "execution_count": 64,
   "id": "d6624996-1d3e-46fb-8470-51e696cb6260",
   "metadata": {},
   "outputs": [
    {
     "data": {
      "image/png": "[encoded data removed]",
      "text/plain": [
       "<Figure size 1200x500 with 2 Axes>"
      ]
     },
     "metadata": {},
     "output_type": "display_data"
    }
   ],
   "source": [
    "fig, axes = plt.subplots(ncols=2, figsize=(12,5))\n",
    "INTS = [intensity_obs, intensity_calc]\n",
    "LABELS = ['Observed intensity', 'Calculated intensity']\n",
    "for ind in range(len(INTS)):\n",
    "    axes[ind].plot(tth, INTS[ind], label=LABELS[ind])\n",
    "    axes[ind].set_xlabel('2theta(deg)')\n",
    "    axes[ind].set_ylabel('Intensity')\n",
    "    axes[ind].legend()"
   ]
  },
  {
   "cell_type": "code",
   "execution_count": null,
   "id": "0fb593cd-f8ad-4f9c-b270-95eea14d9f99",
   "metadata": {},
   "outputs": [],
   "source": []
  },
  {
   "cell_type": "code",
   "execution_count": null,
   "id": "7e4ee1a5-5d93-4dda-93ab-35d0f440e50b",
   "metadata": {},
   "outputs": [],
   "source": []
  },
  {
   "cell_type": "code",
   "execution_count": null,
   "id": "5dde3931-2c40-45ef-b798-902267fb9d6a",
   "metadata": {},
   "outputs": [],
   "source": []
  },
  {
   "cell_type": "code",
   "execution_count": null,
   "id": "f22be9aa-fe16-496a-8518-cca6215c3c8e",
   "metadata": {},
   "outputs": [],
   "source": []
  },
  {
   "cell_type": "code",
   "execution_count": null,
   "id": "a6f9d44a-8df1-4ad4-ba67-531c78c2f84f",
   "metadata": {},
   "outputs": [],
   "source": []
  },
  {
   "cell_type": "code",
   "execution_count": null,
   "id": "10af1409-5002-4a2e-83ba-da006262f71b",
   "metadata": {},
   "outputs": [],
   "source": []
  },
  {
   "cell_type": "code",
   "execution_count": null,
   "id": "dbddd71d-2ee8-4dd9-882a-1dd32aad65a3",
   "metadata": {},
   "outputs": [],
   "source": []
  },
  {
   "cell_type": "code",
   "execution_count": null,
   "id": "49bfc9d3-56ae-418d-b63a-a73e81d20b57",
   "metadata": {},
   "outputs": [],
   "source": []
  }
 ],
 "metadata": {
  "kernelspec": {
   "display_name": "Python 3 (ipykernel)",
   "language": "python",
   "name": "python3"
  },
  "language_info": {
   "codemirror_mode": {
    "name": "ipython",
    "version": 3
   },
   "file_extension": ".py",
   "mimetype": "text/x-python",
   "name": "python",
   "nbconvert_exporter": "python",
   "pygments_lexer": "ipython3",
   "version": "3.10.13"
  }
 },
 "nbformat": 4,
 "nbformat_minor": 5
}
