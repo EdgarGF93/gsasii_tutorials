{
 "cells": [
  {
   "cell_type": "code",
   "execution_count": null,
   "id": "13219277-69a3-4f87-b576-0804cef68ec8",
   "metadata": {},
   "outputs": [],
   "source": []
  },
  {
   "cell_type": "code",
   "execution_count": null,
   "id": "68d46bc3-e04c-4af7-8fb2-1a24b5492e37",
   "metadata": {},
   "outputs": [],
   "source": [
    "#### Set the histogram parameters all at one"
   ]
  },
  {
   "cell_type": "code",
   "execution_count": 2,
   "id": "ac9639d5-023b-4ba4-920e-23d08f743aa6",
   "metadata": {},
   "outputs": [],
   "source": [
    "background = {\n",
    "    \"type\" : \"chebyscheiv-1\",\n",
    "    \"no. coeffs\" : 9,\n",
    "    \"refine\" : True,\n",
    "}\n",
    "\n",
    "limits = [10,120]\n",
    "\n",
    "inst_params = [\"U\", \"V\", \"W\", \"X\", \"Y\", \"Z\"]\n",
    "\n",
    "sample_params = [\"Scale\", \"Absorption\"]"
   ]
  },
  {
   "cell_type": "code",
   "execution_count": 3,
   "id": "f870897c-68a1-45f6-ac1c-0ecaed339555",
   "metadata": {},
   "outputs": [],
   "source": [
    "histogram_refinement = {\n",
    "    \"Limits\" : limits,\n",
    "    \"Background\" : background,\n",
    "    \"Instrument Parameters\" : inst_params,\n",
    "    \"Sample Parameters\" : sample_params,\n",
    "}"
   ]
  },
  {
   "cell_type": "code",
   "execution_count": null,
   "id": "adfc2780-9c42-486b-b810-a07ce7a9ba9a",
   "metadata": {},
   "outputs": [],
   "source": [
    "hist.set_refinements(histogram_refinement)"
   ]
  },
  {
   "cell_type": "code",
   "execution_count": null,
   "id": "9b1b7dc6-766e-4258-935b-2f5ecf9503ea",
   "metadata": {},
   "outputs": [],
   "source": [
    "gpx.do_refinements()"
   ]
  },
  {
   "cell_type": "code",
   "execution_count": null,
   "id": "ec796b76-9ea6-4bcf-baef-a4f45a6c7e85",
   "metadata": {},
   "outputs": [],
   "source": []
  },
  {
   "cell_type": "code",
   "execution_count": null,
   "id": "2c48600d-fee7-468b-b9a2-db20fdc91dff",
   "metadata": {},
   "outputs": [],
   "source": [
    "phase_params = {\n",
    "    \"Cell\" : True,\n",
    "    \"LeBail\" : True,\n",
    "    \"Atoms\" : {\"O\" : \"X\"},\n",
    "}\n",
    "ph_magnetite.set_refinements(phase_params)"
   ]
  },
  {
   "cell_type": "code",
   "execution_count": null,
   "id": "62558b97-c942-472f-b40a-657d3558d39a",
   "metadata": {},
   "outputs": [],
   "source": [
    "gpx.do_refinements()"
   ]
  },
  {
   "cell_type": "code",
   "execution_count": null,
   "id": "97476022-a3dc-4525-9067-2b21c8fcd93e",
   "metadata": {},
   "outputs": [],
   "source": [
    "hap_params = {\n",
    "    \"Extinction\" : True,\n",
    "    \"Size\" : {\"refine\" : True},\n",
    "    \"Scale\" : True,\n",
    "}\n",
    "ph_magnetite.set_HAP_refinements(hap_params)"
   ]
  },
  {
   "cell_type": "code",
   "execution_count": null,
   "id": "1ac720ca-ce6c-4058-a0fb-c03a186c9a95",
   "metadata": {},
   "outputs": [],
   "source": []
  },
  {
   "cell_type": "code",
   "execution_count": null,
   "id": "f5e2ea78-68f7-423a-809c-57ebfe75f863",
   "metadata": {},
   "outputs": [],
   "source": []
  },
  {
   "cell_type": "code",
   "execution_count": null,
   "id": "899674fc-a9e0-417e-a3f0-2997e2f7dc05",
   "metadata": {},
   "outputs": [],
   "source": []
  },
  {
   "cell_type": "code",
   "execution_count": null,
   "id": "368242e6-bb4f-4e0b-9389-9af1cb24522b",
   "metadata": {},
   "outputs": [],
   "source": []
  },
  {
   "cell_type": "code",
   "execution_count": 1,
   "id": "cf7e8289-d43e-4919-8e90-e43c67c8570c",
   "metadata": {},
   "outputs": [],
   "source": [
    "## The other options is to ADD PEAKS MANUALLY (ESTO ES PARA OTRO NOTEBOOK)"
   ]
  },
  {
   "cell_type": "code",
   "execution_count": null,
   "id": "f0559ae9-d4ae-47c2-b0e7-8c13e6a71988",
   "metadata": {},
   "outputs": [],
   "source": [
    "#### y hacer refine_peaks"
   ]
  }
 ],
 "metadata": {
  "kernelspec": {
   "display_name": "Python 3 (ipykernel)",
   "language": "python",
   "name": "python3"
  },
  "language_info": {
   "codemirror_mode": {
    "name": "ipython",
    "version": 3
   },
   "file_extension": ".py",
   "mimetype": "text/x-python",
   "name": "python",
   "nbconvert_exporter": "python",
   "pygments_lexer": "ipython3",
   "version": "3.10.13"
  }
 },
 "nbformat": 4,
 "nbformat_minor": 5
}
